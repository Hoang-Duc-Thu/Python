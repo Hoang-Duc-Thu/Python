{
 "cells": [
  {
   "cell_type": "markdown",
   "id": "8cd88991",
   "metadata": {},
   "source": [
    "## Seaborn_Athletes\n",
    "Tập dữ liệu **athletes.csv** chứa thông tin về các vận động viên tham gia thế vận hội Olimpic RIO 2016, bao gồm tên, quốc gia, giới tính, ngày sinh, năm sinh, tuổi, chiều cao, cân nặng, môn thể thao và số lượng huy chương đạt được.\n",
    "\n",
    "## Hãy thực hiện các yêu cầu sau:\n",
    "### Câu 1: \n",
    "Đọc dữ liệu, hiển thị 5 dòng đầu, 5 dòng cuối.  \n",
    "Xem thông tin info, describe  \n",
    "### Câu 2: \n",
    "Thống kê số lượng VĐV theo giới tính\n",
    "### Câu 3: \n",
    "a) Vẽ countplot thể hiện top 10 quốc gia có số lượng VĐV lớn nhất  \n",
    "b) Vẽ countplot thống kê số lượng VĐV theo sport (môn thi đấu)  \n",
    "### Câu 4:\n",
    "a) Phân tích phân phối age (tuổi) của các VĐV    \n",
    "b) Phân tích phân phối height (chiều cao) của các VĐV theo giới tính  \n",
    "c) Phân tích phân phối weight (cân nặng) của các VĐV theo giới tính \n",
    "### Câu 5:\n",
    "a) Tạo dataframe basket_row gồm các VĐV thi đấu Đua thuyền và Bóng rổ  \n",
    "b) Vẽ biểu đồ barplot thể hiện Cân nặng trung bình của VĐV Đua thuyền vs Bóng rổ. Cho nhận xét.  \n",
    "c) Vẽ biểu đồ phân phối cân nặng của các VĐV Đua thuyền vs Bóng rổ. Cho nhận xét.  \n",
    "d) Vẽ biểu đồ barplot thể hiện Chiều cao trung bình của VĐV Đua thuyền vs Bóng rổ. Cho nhận xét.  \n",
    "e) Vẽ biểu đồ phân phối chiều cao của các VĐV Đua thuyền vs Bóng rổ. Cho nhận xét.  \n",
    "f) Biểu đồ boxplot thể hiện phân bố chiều cao của các VĐV Đua thuyền vs Bóng rổ\n",
    "g) Biểu đồ violinplot thể hiện phân bố chiều cao của các VĐV Đua thuyền vs Bóng rổ, phân màu theo giới tính\n",
    "h) Vẽ scatterplot thể hiện mối quan hệ giữa chiều cao và cân nặng của các VĐV bóng rổ, đua thuyền, phân màu theo môn thi\n",
    "i) Vẽ regressionplot cho chiều cao và cân nặng của VĐV bóng rổ\n",
    "k) Vẽ residualplot cho chiều cao và cân nặng của VĐV bóng rổ\n",
    "l) Hàm mật độ xác suất chiều cao của các VĐV bóng rổ theo giới tính\n"
   ]
  },
  {
   "cell_type": "markdown",
   "id": "2082d726",
   "metadata": {},
   "source": [
    "## Import thư viện"
   ]
  },
  {
   "cell_type": "code",
   "execution_count": null,
   "id": "40f7b51f",
   "metadata": {},
   "outputs": [],
   "source": [
    "import numpy as np\n",
    "import pandas as pd\n",
    "import matplotlib.pyplot as plt\n",
    "import seaborn as sns"
   ]
  },
  {
   "cell_type": "code",
   "execution_count": null,
   "id": "abdc7e76",
   "metadata": {},
   "outputs": [],
   "source": [
    "# Câu 1: Đọc dữ liệu\n",
    "\n",
    "# Xem 5 dòng đầu tiên"
   ]
  },
  {
   "cell_type": "code",
   "execution_count": null,
   "id": "13b650ef",
   "metadata": {},
   "outputs": [],
   "source": [
    "# Xem 5 dòng cuối\n"
   ]
  },
  {
   "cell_type": "code",
   "execution_count": null,
   "id": "44a287c0",
   "metadata": {},
   "outputs": [],
   "source": [
    "# Xem thông tin info\n"
   ]
  },
  {
   "cell_type": "code",
   "execution_count": null,
   "id": "1c09ffda",
   "metadata": {},
   "outputs": [],
   "source": [
    "# Xem thông tin describe của các cột số\n"
   ]
  },
  {
   "cell_type": "code",
   "execution_count": null,
   "id": "450cd483",
   "metadata": {},
   "outputs": [],
   "source": [
    "# Xem thông tin describe của các cột object\n"
   ]
  },
  {
   "cell_type": "code",
   "execution_count": null,
   "id": "89100609",
   "metadata": {},
   "outputs": [],
   "source": [
    "# Câu 2: Vẽ biểu đồ thống kê số lượng VĐV theo sex (giới tính)\n"
   ]
  },
  {
   "cell_type": "code",
   "execution_count": null,
   "id": "973e0937",
   "metadata": {},
   "outputs": [],
   "source": [
    "# Câu 3a: Vẽ biểu đồ top 10 quốc gia có số lượng VĐV lớn nhất\n"
   ]
  },
  {
   "cell_type": "code",
   "execution_count": null,
   "id": "50cee254",
   "metadata": {},
   "outputs": [],
   "source": [
    "# b) Vẽ biểu đồ thống kê số lượng VĐV theo sport (môn thi đấu)\n"
   ]
  },
  {
   "cell_type": "code",
   "execution_count": null,
   "id": "b74b5ab9",
   "metadata": {},
   "outputs": [],
   "source": [
    "# Câu 4a) Biểu đồ phân phối tuổi của VĐV\n"
   ]
  },
  {
   "cell_type": "code",
   "execution_count": null,
   "id": "f6697d09",
   "metadata": {},
   "outputs": [],
   "source": [
    "# b) Biểu đồ phân phối chiều cao của VĐV theo giới tính\n"
   ]
  },
  {
   "cell_type": "code",
   "execution_count": null,
   "id": "24bebc14",
   "metadata": {},
   "outputs": [],
   "source": [
    "# Câu 5a: Tạo dataframe basket_row gồm các VĐV thi đấu bóng rổ và đua thuyền\n"
   ]
  },
  {
   "cell_type": "code",
   "execution_count": null,
   "id": "f6c063a9",
   "metadata": {},
   "outputs": [],
   "source": [
    "# b) Biểu đồ thể hiện Cân nặng trung bình của VĐV Đua thuyền vs Bóng rổ.\n",
    "\n",
    "\n"
   ]
  },
  {
   "cell_type": "code",
   "execution_count": null,
   "id": "8c5e4d07",
   "metadata": {},
   "outputs": [],
   "source": [
    "# c) Biểu đồ phân phối số VĐV theo cân nặng giữa Basketball và Rowing. \n"
   ]
  },
  {
   "cell_type": "code",
   "execution_count": null,
   "id": "11c7907c",
   "metadata": {},
   "outputs": [],
   "source": [
    "# d) Biểu đồ thể hiện Chiều cao trung bình của VĐV Đua thuyền vs Bóng rổ.\n"
   ]
  },
  {
   "cell_type": "code",
   "execution_count": null,
   "id": "40d22dc3",
   "metadata": {},
   "outputs": [],
   "source": [
    "# e) Biểu đồ phân phối chiều cao của VĐV Đua thuyền vs Bóng rổ. "
   ]
  },
  {
   "cell_type": "code",
   "execution_count": null,
   "id": "148f14ad",
   "metadata": {},
   "outputs": [],
   "source": [
    "# f) Biểu đồ boxplot thể hiện phân bố chiều cao của các VĐV Đua thuyền vs Bóng rổ\n"
   ]
  },
  {
   "cell_type": "code",
   "execution_count": null,
   "id": "32f538ef",
   "metadata": {},
   "outputs": [],
   "source": [
    "# g) Biểu đồ violinplot thể hiện phân bố chiều cao của các VĐV Đua thuyền vs Bóng rổ, phân màu theo giới tính\n"
   ]
  },
  {
   "cell_type": "code",
   "execution_count": null,
   "id": "a4642b8f",
   "metadata": {},
   "outputs": [],
   "source": [
    "# h) Vẽ scatterplot thể hiện mối quan hệ giữa chiều cao và cân nặng của các VĐV bóng rổ, đua thuyền\n",
    "# phân màu theo môn thi\n"
   ]
  },
  {
   "cell_type": "code",
   "execution_count": null,
   "id": "43a2b45a",
   "metadata": {},
   "outputs": [],
   "source": [
    "# i) Vẽ regressionplot cho chiều cao và cân nặng của VĐV bóng rổ\n"
   ]
  },
  {
   "cell_type": "code",
   "execution_count": null,
   "id": "1b0ac6e8",
   "metadata": {},
   "outputs": [],
   "source": [
    "# l) Hàm mật độ xác suất chiều cao của các VĐV bóng rổ theo giới tính\n"
   ]
  },
  {
   "cell_type": "code",
   "execution_count": null,
   "id": "f07538e1",
   "metadata": {},
   "outputs": [],
   "source": []
  }
 ],
 "metadata": {
  "kernelspec": {
   "display_name": "Python 3 (ipykernel)",
   "language": "python",
   "name": "python3"
  },
  "language_info": {
   "codemirror_mode": {
    "name": "ipython",
    "version": 3
   },
   "file_extension": ".py",
   "mimetype": "text/x-python",
   "name": "python",
   "nbconvert_exporter": "python",
   "pygments_lexer": "ipython3",
   "version": "3.8.7"
  }
 },
 "nbformat": 4,
 "nbformat_minor": 5
}
