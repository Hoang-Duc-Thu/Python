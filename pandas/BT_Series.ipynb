{
 "cells": [
  {
   "cell_type": "markdown",
   "metadata": {},
   "source": [
    "# Chapter 4 - Exercise 1: Thực hiện những yêu cầu liên quan đến series"
   ]
  },
  {
   "cell_type": "markdown",
   "metadata": {},
   "source": [
    "## Part 1: Thực hiện các phép toán trên series"
   ]
  },
  {
   "cell_type": "code",
   "execution_count": 2,
   "metadata": {},
   "outputs": [],
   "source": [
    "import numpy as np\n",
    "import pandas as pd"
   ]
  },
  {
   "cell_type": "code",
   "execution_count": null,
   "metadata": {},
   "outputs": [],
   "source": [
    "# Câu 1a: Cho arr_1 là mảng số nguyên chẵn [2, 4, 6, 8, 10], \n",
    "#     arr_2 là mảng số nguyên lẻ [1, 3, 5, 7, 11]\n",
    "# Tạo biến kiểu Serries ser1 từ arr_1, ser2 từ arr_2\n",
    "\n",
    "# In danh sách các phần tử của ser1 và ser2\n"
   ]
  },
  {
   "cell_type": "code",
   "execution_count": null,
   "metadata": {},
   "outputs": [],
   "source": [
    "# Câu 1b: Thực hiện phép toán và thể hiện kết quả của:  ser1 + ser2 \n"
   ]
  },
  {
   "cell_type": "code",
   "execution_count": null,
   "metadata": {},
   "outputs": [],
   "source": [
    "# Câu 1c: Thực hiện phép toán và thể hiện kết quả của:  ser1 - ser2\n"
   ]
  },
  {
   "cell_type": "code",
   "execution_count": null,
   "metadata": {},
   "outputs": [],
   "source": [
    "# Câu 1d: Thực hiện phép toán và thể hiện kết quả của:  ser1 * ser2\n"
   ]
  },
  {
   "cell_type": "code",
   "execution_count": null,
   "metadata": {},
   "outputs": [],
   "source": [
    "# Câu 1e: Thực hiện phép toán và thể hiện kết quả của:  ser1 / ser2\n"
   ]
  },
  {
   "cell_type": "code",
   "execution_count": null,
   "metadata": {},
   "outputs": [],
   "source": [
    "# Câu 2a: Kiểm tra xem các phần tử của ser1 có > các phần tử của ser2 không?\n"
   ]
  },
  {
   "cell_type": "code",
   "execution_count": null,
   "metadata": {},
   "outputs": [],
   "source": [
    "# Câu 2b: Kiểm tra xem các phần tử của ser1 có < các phần tử của ser2 không?\n"
   ]
  },
  {
   "cell_type": "code",
   "execution_count": null,
   "metadata": {
    "scrolled": true
   },
   "outputs": [],
   "source": [
    "# Câu 2c: Kiểm tra xem các phần tử của ser1 có = các phần tử của ser2 không?\n"
   ]
  },
  {
   "cell_type": "code",
   "execution_count": null,
   "metadata": {},
   "outputs": [],
   "source": [
    "# Câu 3a: Thêm 2 phần tử [6, 12] vào ser2\n",
    "\n",
    "# In lại danh sách các phần tử của ser2.\n"
   ]
  },
  {
   "cell_type": "code",
   "execution_count": null,
   "metadata": {},
   "outputs": [],
   "source": [
    "# Câu 3b: Tạo series ser3 chỉ chứa các phần tử có trong ser1 mà không có trong ser2. \n",
    "#         In danh sách các phần tử của ser3\n",
    "ser3 = ser1[ ~ser1.isin(ser2) ]"
   ]
  },
  {
   "cell_type": "code",
   "execution_count": null,
   "metadata": {},
   "outputs": [],
   "source": [
    "# Câu 3c: Tạo series ser4 chỉ chứa các phần tử có trong ser2 mà không có trong ser1. \n",
    "#         In danh sách các phần tử của ser4\n",
    "ser4 = ser2[ ~ser2.isin(ser1) ]"
   ]
  },
  {
   "cell_type": "code",
   "execution_count": null,
   "metadata": {},
   "outputs": [],
   "source": [
    "# Câu 4: Tạo series ser5 chứa các phần tử chỉ có trong ser1 và chỉ có trong ser2\n",
    "#        In danh sách các phần tử của ser5\n",
    "\n",
    "ser5 = ser3.append(ser4)\n"
   ]
  },
  {
   "cell_type": "markdown",
   "metadata": {},
   "source": [
    "## Part 2: Truy xuất các phần tử, và thống kê thông tin trên series"
   ]
  },
  {
   "cell_type": "code",
   "execution_count": 4,
   "metadata": {},
   "outputs": [
    {
     "data": {
      "text/plain": [
       "0     7\n",
       "1     4\n",
       "2     8\n",
       "3     5\n",
       "4     7\n",
       "5     3\n",
       "6     7\n",
       "7     8\n",
       "8     5\n",
       "9     4\n",
       "10    8\n",
       "11    8\n",
       "12    3\n",
       "13    6\n",
       "14    5\n",
       "15    2\n",
       "16    8\n",
       "17    6\n",
       "18    2\n",
       "19    5\n",
       "20    1\n",
       "21    6\n",
       "22    9\n",
       "23    1\n",
       "24    3\n",
       "25    7\n",
       "26    4\n",
       "27    9\n",
       "28    3\n",
       "29    5\n",
       "30    3\n",
       "31    7\n",
       "32    5\n",
       "33    9\n",
       "34    7\n",
       "dtype: int32"
      ]
     },
     "execution_count": 4,
     "metadata": {},
     "output_type": "execute_result"
    }
   ],
   "source": [
    "# Câu 1a: Tạo series ser6 có 35 phần tử số nguyên ngẫu nhiên \n",
    "# có giá trị trong khoảng từ 1 đến 9. \n",
    "np.random.seed(42)\n",
    "ser6 = pd.Series(np.random.randint(1,10,35))\n",
    "# Cho biết kích thước (shape) của ser6\n",
    "ser6\n",
    "\n",
    "# Xem 5 dòng dữ liệu đầu tiên (head) và \n",
    "# 5 dòng dữ liệu cuối cùng (tail) có trong ser6\n",
    "\n"
   ]
  },
  {
   "cell_type": "code",
   "execution_count": null,
   "metadata": {},
   "outputs": [],
   "source": [
    "# Câu 1b: In danh sách các phần tử của ser6 theo dạng array\n"
   ]
  },
  {
   "cell_type": "code",
   "execution_count": null,
   "metadata": {},
   "outputs": [],
   "source": [
    "# Câu 1c: Cho biết thông tin thống kê chung (describe()) của ser6\n"
   ]
  },
  {
   "cell_type": "code",
   "execution_count": null,
   "metadata": {},
   "outputs": [],
   "source": [
    "# Câu 1d: Cho biết tổng của các phần tử có trong ser6\n"
   ]
  },
  {
   "cell_type": "code",
   "execution_count": null,
   "metadata": {},
   "outputs": [],
   "source": [
    "# Câu 1e: Cho biết phần tử có tần suất xuất hiện nhiều nhất trong ser6\n"
   ]
  },
  {
   "cell_type": "code",
   "execution_count": null,
   "metadata": {},
   "outputs": [],
   "source": [
    "# Câu 2:  Liệt kê các dòng trong ser6 mà giá trị chia hết cho 2 và cho 3\n",
    "ser6[(ser%2==0) & (ser6%3==0)]"
   ]
  },
  {
   "cell_type": "code",
   "execution_count": 6,
   "metadata": {},
   "outputs": [
    {
     "data": {
      "text/plain": [
       "0     7\n",
       "5     3\n",
       "10    8\n",
       "15    2\n",
       "dtype: int32"
      ]
     },
     "execution_count": 6,
     "metadata": {},
     "output_type": "execute_result"
    }
   ],
   "source": [
    "# Câu 3: In các phần tử ở vị trí 0, 5, 10, 15 trong ser6\n",
    "ser6[:16:5]"
   ]
  },
  {
   "cell_type": "code",
   "execution_count": 7,
   "metadata": {},
   "outputs": [
    {
     "data": {
      "text/plain": [
       "array([7, 4, 8, 5, 3, 6, 2, 1, 9])"
      ]
     },
     "execution_count": 7,
     "metadata": {},
     "output_type": "execute_result"
    }
   ],
   "source": [
    "# Câu 4: In ra các giá trị unique (array) trong ser6\n",
    "ser6.unique()"
   ]
  },
  {
   "cell_type": "code",
   "execution_count": 8,
   "metadata": {},
   "outputs": [
    {
     "data": {
      "text/plain": [
       "0     343\n",
       "1      64\n",
       "2     512\n",
       "3     125\n",
       "4     343\n",
       "5      27\n",
       "6     343\n",
       "7     512\n",
       "8     125\n",
       "9      64\n",
       "10    512\n",
       "11    512\n",
       "12     27\n",
       "13    216\n",
       "14    125\n",
       "15      8\n",
       "16    512\n",
       "17    216\n",
       "18      8\n",
       "19    125\n",
       "20      1\n",
       "21    216\n",
       "22    729\n",
       "23      1\n",
       "24     27\n",
       "25    343\n",
       "26     64\n",
       "27    729\n",
       "28     27\n",
       "29    125\n",
       "30     27\n",
       "31    343\n",
       "32    125\n",
       "33    729\n",
       "34    343\n",
       "dtype: int64"
      ]
     },
     "execution_count": 8,
     "metadata": {},
     "output_type": "execute_result"
    }
   ],
   "source": [
    "# Câu 5: Tạo series ser7 với mỗi phần tử có \n",
    "# giá trị = lập phương của phần tử trong ser6. \n",
    "ser7 = ser6.map(lambda x: x**3)\n",
    "ser7\n",
    "# Xem 5 dòng dữ liệu đầu tiên (head) của ser7\n",
    "\n"
   ]
  },
  {
   "cell_type": "markdown",
   "metadata": {},
   "source": [
    "## Part 3: Tạo series từ list, chuỗi và biểu thức điều kiện "
   ]
  },
  {
   "cell_type": "code",
   "execution_count": 9,
   "metadata": {},
   "outputs": [],
   "source": [
    "# Câu 1: Cho list sau:\n",
    "lst = [\"abc\", \"defg\", \"htlmj\", \"dfg\", \"ljsac\"]"
   ]
  },
  {
   "cell_type": "code",
   "execution_count": 10,
   "metadata": {},
   "outputs": [
    {
     "data": {
      "text/plain": [
       "0      abc\n",
       "1     defg\n",
       "2    htlmj\n",
       "3      dfg\n",
       "4    ljsac\n",
       "dtype: object"
      ]
     },
     "execution_count": 10,
     "metadata": {},
     "output_type": "execute_result"
    }
   ],
   "source": [
    "# Câu 1a: Tạo series ser_chuoi từ lst \n",
    "ser_chuoi = pd.Series(lst)\n",
    "ser_chuoi"
   ]
  },
  {
   "cell_type": "code",
   "execution_count": 11,
   "metadata": {},
   "outputs": [
    {
     "data": {
      "text/plain": [
       "0    3\n",
       "1    4\n",
       "2    5\n",
       "3    3\n",
       "4    5\n",
       "dtype: int64"
      ]
     },
     "execution_count": 11,
     "metadata": {},
     "output_type": "execute_result"
    }
   ],
   "source": [
    "# Câu 1b: Tạo series ser_dodai với mỗi phần tử có giá trị \n",
    "# là chiều dài của mỗi phần tử trong ser_chuoi\n",
    "ser_dodai = ser_chuoi.map(lambda x: len(x))\n",
    "ser_dodai"
   ]
  },
  {
   "cell_type": "code",
   "execution_count": null,
   "metadata": {},
   "outputs": [],
   "source": [
    "# Câu 2: Cho ser = pd.Series(np.array([1, 2, 4, 5, 8, 7, 6, 9])). \n",
    "# Sử dụng biểu thức điều kiện thích hợp để in ra các dòng trong ser \n",
    "# có giá trị là số nguyên tố\n"
   ]
  },
  {
   "cell_type": "code",
   "execution_count": null,
   "metadata": {},
   "outputs": [],
   "source": [
    "# Câu 4a: Cho series:\n",
    "ser_names = pd.Series(['Manufacturer', 'Model', 'CarType', 'Min_Price', \n",
    "       'Price', 'Max_Price',\n",
    "       'MPG_city', 'MPG_highway', 'AirBags', 'DriveTrain', 'Cylinders',\n",
    "       'EngineSize', 'Horsepower', 'RPM', 'Rev_per_mile', 'Man_trans_avail',\n",
    "       'Fuel_tank_capacity', 'Passengers', 'Length', 'Wheelbase', 'Width',\n",
    "       'Turn_circle', 'Rear_seat_room', 'Luggage_room', 'Weight', 'Origin',\n",
    "       'Make'])\n",
    "# Sử dụng biểu thức điều kiện thích hợp để in ra các dòng của ser_names \n",
    "# thỏa điều kiện trong chuỗi có chữ 'Price'\n",
    "\n"
   ]
  },
  {
   "cell_type": "code",
   "execution_count": null,
   "metadata": {},
   "outputs": [],
   "source": [
    "# Câu 4b: Cho series:\n",
    "ser_names = pd.Series(['Manufacturer', 'Model', 'CarType', 'Min_Price', \n",
    "       'price', 'Max_price',\n",
    "       'MPG_city', 'MPG_highway', 'AirBags', 'DriveTrain', 'Cylinders',\n",
    "       'EngineSize', 'Horsepower', 'RPM', 'Rev_per_mile', 'Man_trans_avail',\n",
    "       'Fuel_tank_capacity', 'Passengers', 'Length', 'Wheelbase', 'Width',\n",
    "       'Turn_circle', 'Rear_seat_room', 'Luggage_room', 'Weight', 'Origin',\n",
    "       'Make'])\n",
    "# In ra các dòng của ser_names trong chuỗi \n",
    "# có chữ 'Price' (không phân biệt thường/hoa)\n"
   ]
  },
  {
   "cell_type": "code",
   "execution_count": null,
   "metadata": {},
   "outputs": [],
   "source": []
  }
 ],
 "metadata": {
  "kernelspec": {
   "display_name": "Python 3 (ipykernel)",
   "language": "python",
   "name": "python3"
  },
  "language_info": {
   "codemirror_mode": {
    "name": "ipython",
    "version": 3
   },
   "file_extension": ".py",
   "mimetype": "text/x-python",
   "name": "python",
   "nbconvert_exporter": "python",
   "pygments_lexer": "ipython3",
   "version": "3.12.6"
  }
 },
 "nbformat": 4,
 "nbformat_minor": 4
}
