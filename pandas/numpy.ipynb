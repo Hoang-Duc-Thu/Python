{
 "cells": [
  {
   "cell_type": "code",
   "execution_count": 1,
   "id": "4ce8244a-1daa-4731-9d07-295f53f99655",
   "metadata": {},
   "outputs": [],
   "source": [
    "import numpy as np"
   ]
  },
  {
   "cell_type": "markdown",
   "id": "098f8def-5f3e-4bce-aeba-a21dfe73add9",
   "metadata": {},
   "source": [
    "1. Tạo numpy array arr có giá trị từ 0-9. Hiển thị các phần tử có trong arr, xem kiểu dữ liệu và kích thước của arr.\n",
    "2. Từ array arr ở câu 1 => tạo arr_odd và arr_even.\n",
    "3. Từ array arr ở câu 1 => tạo arr_update_1 với các phần tử chẵn giữ nguyên, các phần tử lẻ thay bằng 100."
   ]
  },
  {
   "cell_type": "code",
   "execution_count": 3,
   "id": "ba2a0ce7-3a61-40d9-9756-c97945053213",
   "metadata": {},
   "outputs": [
    {
     "data": {
      "text/plain": [
       "array([0, 1, 2, 3, 4, 5, 6, 7, 8, 9])"
      ]
     },
     "execution_count": 3,
     "metadata": {},
     "output_type": "execute_result"
    }
   ],
   "source": [
    "arr = np.arange(10)\n",
    "arr"
   ]
  },
  {
   "cell_type": "code",
   "execution_count": 6,
   "id": "504ca463-3947-475b-8b6b-f63cdbe2bab3",
   "metadata": {},
   "outputs": [
    {
     "data": {
      "text/plain": [
       "dtype('int64')"
      ]
     },
     "execution_count": 6,
     "metadata": {},
     "output_type": "execute_result"
    }
   ],
   "source": [
    "arr.dtype"
   ]
  },
  {
   "cell_type": "code",
   "execution_count": 9,
   "id": "1d19a912-223d-42df-85e9-25014d266b12",
   "metadata": {},
   "outputs": [
    {
     "data": {
      "text/plain": [
       "array([1, 3, 5, 7, 9])"
      ]
     },
     "execution_count": 9,
     "metadata": {},
     "output_type": "execute_result"
    }
   ],
   "source": [
    "arr_odd = arr[arr % 2 != 0]\n",
    "arr_odd"
   ]
  },
  {
   "cell_type": "code",
   "execution_count": 10,
   "id": "f39e373e-52e1-49f2-b313-fb1c71d1e769",
   "metadata": {},
   "outputs": [
    {
     "data": {
      "text/plain": [
       "array([0, 2, 4, 6, 8])"
      ]
     },
     "execution_count": 10,
     "metadata": {},
     "output_type": "execute_result"
    }
   ],
   "source": [
    "arr_even = arr[arr % 2 == 0]\n",
    "arr_even"
   ]
  },
  {
   "cell_type": "code",
   "execution_count": 14,
   "id": "36b06c0b-a6a6-47dc-9ba9-d7c800798afb",
   "metadata": {},
   "outputs": [
    {
     "data": {
      "text/plain": [
       "array([  0, 100,   2, 100,   4, 100,   6, 100,   8, 100])"
      ]
     },
     "execution_count": 14,
     "metadata": {},
     "output_type": "execute_result"
    }
   ],
   "source": [
    "arr[arr[arr % 2 !=0]] = 100\n",
    "arr_update_1 = arr.copy()\n",
    "arr_update_1"
   ]
  },
  {
   "cell_type": "markdown",
   "id": "a20a28e9-cae7-4cc4-b38a-cc839e7d71cb",
   "metadata": {},
   "source": [
    "1. Cho 2 array arr_a = [1,2,3,2,3,4,3,4,5,6] và arr_b = [7,2,10,2,7,4,9,4,9,8], tạo array arr_c chỉ lấy duy nhất các phần tử xuất hiện ở cả arr_a và arr_b.\n",
    "2. Từ arr_a và arr_b ở câu 1 => Tạo arr_d chứa các phần tử chỉ xuất hiện ở arr_a.\n",
    "3. Cho arr_e = np.array([2, 6, 1, 9, 10, 3, 27, 8, 6, 25, 16]), hãy tạo arr_f chỉ chứa các phần tử có giá trị từ 5 đến 10 của arr_e.\n"
   ]
  },
  {
   "cell_type": "code",
   "execution_count": 22,
   "id": "05b1d42b-69f9-4bf0-8a2b-2c50a3ee49d2",
   "metadata": {},
   "outputs": [
    {
     "data": {
      "text/plain": [
       "array([2, 4])"
      ]
     },
     "execution_count": 22,
     "metadata": {},
     "output_type": "execute_result"
    }
   ],
   "source": [
    "arr_a = np.array([1,2,3,2,3,4,3,4,5,6])\n",
    "arr_b = np.array([7,2,10,2,7,4,9,4,9,8])\n",
    "arr_c = np.intersect1d(arr_a,arr_b)\n",
    "arr_c\n",
    "\n"
   ]
  },
  {
   "cell_type": "code",
   "execution_count": 25,
   "id": "ec365ff7-d516-497c-ac31-b6ecc01a648d",
   "metadata": {},
   "outputs": [
    {
     "data": {
      "text/plain": [
       "array([1, 3, 3, 3, 5, 6])"
      ]
     },
     "execution_count": 25,
     "metadata": {},
     "output_type": "execute_result"
    }
   ],
   "source": [
    "arr_d = arr_a[~np.isin(arr_a,arr_b)]\n",
    "arr_d"
   ]
  },
  {
   "cell_type": "code",
   "execution_count": 26,
   "id": "e5f9053b-ec6f-4a3c-9d72-5f7a2caf7d80",
   "metadata": {},
   "outputs": [
    {
     "data": {
      "text/plain": [
       "array([ 2,  6,  1,  9, 10,  3, 27,  8,  6, 25, 16])"
      ]
     },
     "execution_count": 26,
     "metadata": {},
     "output_type": "execute_result"
    }
   ],
   "source": [
    "arr_e = np.array([2, 6, 1, 9, 10, 3, 27, 8, 6, 25, 16])\n",
    "arr_e"
   ]
  },
  {
   "cell_type": "code",
   "execution_count": 29,
   "id": "067c7b69-ce0e-40cf-be15-09546bbf9903",
   "metadata": {},
   "outputs": [
    {
     "data": {
      "text/plain": [
       "array([ 6,  9, 10,  8,  6])"
      ]
     },
     "execution_count": 29,
     "metadata": {},
     "output_type": "execute_result"
    }
   ],
   "source": [
    "arr_f = arr_e[(arr_e >= 5) & (arr_e <= 10)]\n",
    "arr_f"
   ]
  },
  {
   "cell_type": "code",
   "execution_count": null,
   "id": "a8c18d35-8bea-4cb1-be1e-46b6cf1da90f",
   "metadata": {},
   "outputs": [],
   "source": [
    "1. Tạo arr_zeros có 10 phần tử 0, cập nhật phần tử ở vị trí thứ 5 là 1.\n",
    "2. Tạo arr_h có giá trị từ 10 đến 24. In danh sách các phần tử theo tứ tự đảo ngược của arr_h.\n",
    "3. Cho arr_k = np.array([1, 2, 0, 8, 2, 0, 1, 3, 0, 5, 0]), tạo arr_l từ arr_k với các phần tử khác 0.\n",
    "4. Từ arr_l của câu 3, thêm 2 phần tử có giá trị là 10 và 20 vào cuối array.\n",
    "5. Từ array của câu 4, thêm phần tử có giá trị 100 vào vị trí có index = 5.\n",
    "6. Từ array của câu 5, xóa các phần tử tại vị trí có index = 0, 1, 2."
   ]
  },
  {
   "cell_type": "code",
   "execution_count": 33,
   "id": "706384d2-439a-4753-8a12-aeaceeea2068",
   "metadata": {},
   "outputs": [
    {
     "data": {
      "text/plain": [
       "array([0, 0, 0, 0, 1, 0, 0, 0, 0, 0], dtype=int32)"
      ]
     },
     "execution_count": 33,
     "metadata": {},
     "output_type": "execute_result"
    }
   ],
   "source": [
    "arr_zeros = np.zeros(10,dtype = np.int32)\n",
    "arr_zeros[4] = 1\n",
    "arr_zeros"
   ]
  },
  {
   "cell_type": "code",
   "execution_count": 39,
   "id": "e6c0e4c0-4c3f-4996-9c7b-e63d205e37b8",
   "metadata": {},
   "outputs": [
    {
     "data": {
      "text/plain": [
       "array([24, 23, 22, 21, 20, 19, 18, 17, 16, 15, 14, 13, 12, 11, 10])"
      ]
     },
     "execution_count": 39,
     "metadata": {},
     "output_type": "execute_result"
    }
   ],
   "source": [
    "arr_h = np.arange(10,25)\n",
    "arr_h[::-1]"
   ]
  },
  {
   "cell_type": "code",
   "execution_count": 40,
   "id": "64fdf357-d16d-4bf1-bfd4-9d3906621624",
   "metadata": {},
   "outputs": [],
   "source": [
    "arr_k = np.array([1, 2, 0, 8, 2, 0, 1, 3, 0, 5, 0])"
   ]
  },
  {
   "cell_type": "code",
   "execution_count": 49,
   "id": "937a41e5-f547-4af0-a875-2ed830f2bf26",
   "metadata": {},
   "outputs": [],
   "source": [
    "arr_l = arr_k[arr_k != 0]"
   ]
  },
  {
   "cell_type": "code",
   "execution_count": 50,
   "id": "5767aac1-5a0a-4455-80e1-c85fd947fcd3",
   "metadata": {},
   "outputs": [
    {
     "data": {
      "text/plain": [
       "array([1, 2, 8, 2, 1, 3, 5])"
      ]
     },
     "execution_count": 50,
     "metadata": {},
     "output_type": "execute_result"
    }
   ],
   "source": [
    "arr_l"
   ]
  },
  {
   "cell_type": "code",
   "execution_count": 51,
   "id": "8e4bed8c-e350-4993-8116-d7c06b30a735",
   "metadata": {},
   "outputs": [],
   "source": [
    "arr_l =np.append(arr_l,[10,20])"
   ]
  },
  {
   "cell_type": "code",
   "execution_count": 52,
   "id": "6e822720-c0eb-40c1-afde-0e4185b8da67",
   "metadata": {},
   "outputs": [
    {
     "data": {
      "text/plain": [
       "array([ 1,  2,  8,  2,  1,  3,  5, 10, 20])"
      ]
     },
     "execution_count": 52,
     "metadata": {},
     "output_type": "execute_result"
    }
   ],
   "source": [
    "arr_l"
   ]
  },
  {
   "cell_type": "code",
   "execution_count": 53,
   "id": "7fd1209e-1d8c-4b51-bcc5-ef3e5b1e9b9b",
   "metadata": {},
   "outputs": [
    {
     "data": {
      "text/plain": [
       "array([  1,   2,   8,   2,   1, 100,   3,   5,  10,  20])"
      ]
     },
     "execution_count": 53,
     "metadata": {},
     "output_type": "execute_result"
    }
   ],
   "source": [
    "arr_l = np.insert(arr_l,5,100)\n",
    "arr_l"
   ]
  },
  {
   "cell_type": "code",
   "execution_count": 54,
   "id": "7873a306-4b93-4def-966e-052d1c8fee68",
   "metadata": {},
   "outputs": [],
   "source": [
    "arr_l = np.delete(arr_l,[0,1,2])"
   ]
  },
  {
   "cell_type": "code",
   "execution_count": 55,
   "id": "bd89ec4a-8303-488a-bfa3-325a96246259",
   "metadata": {},
   "outputs": [
    {
     "data": {
      "text/plain": [
       "array([  2,   1, 100,   3,   5,  10,  20])"
      ]
     },
     "execution_count": 55,
     "metadata": {},
     "output_type": "execute_result"
    }
   ],
   "source": [
    "arr_l"
   ]
  },
  {
   "cell_type": "markdown",
   "id": "05b0e2a2-573a-4a10-acc1-8e957fece646",
   "metadata": {},
   "source": [
    "Cho tập tin dữ liệu heights_1.txt, weights_1.txt => hãy chép dữ liệu từ tập tin này vào list là height, weight, và thực hiện các yêu cầu sau:\n",
    "1. Tạo numpy array arr_height từ list height.\n",
    "2. Tạo numpy array arr_weight từ list weight.\n",
    "3. Cho hệ số quy đổi từ inch sang m là 0.0254, tạo arr_height_m dựa trên công thức: arr_height * hệ số quy đổi.\n",
    "4. Cho hệ số quy đổi từ pound sang kg là 0.453592, tạo arr_weight_kg dựa trên công thức: arr_weight * hệ số quy đổi.\n",
    "5. Tính BMI của arr_height_m và arr_weight_kg theo công thức BMI = Cân nặng / (Chiều cao * Chiều cao), và lưu vào arr_bmi.\n",
    "6. Cho biết giá trị cân nặng ở vị trí index = 50 trong arr_weight_kg\n",
    "7. Tạo arr_height_m_100 gồm các phần tử có vị trí index từ 100 đến 110 (lấy cả index 110) trong arr_height_m\n",
    "8. Cho biết các cầu thủ bóng chày có bmi < 21 trong arr_bmi\n",
    "9. Cho biết chiều cao trung bình và cân nặng trung bình của các cầu thủ\n",
    "10. Cho biết chiều cao và cân nặng lớn nhất của các cầu thủ\n",
    "11. Cho biết chiều cao và cân nặng nhỏ nhất của các cầu thủ"
   ]
  },
  {
   "cell_type": "code",
   "execution_count": 60,
   "id": "14dd8ce1-a390-4185-aa85-7ce010bdaeec",
   "metadata": {},
   "outputs": [],
   "source": [
    "with open('heights_1.txt') as f:\n",
    "    content = f.read()\n",
    "height = eval(content)\n"
   ]
  },
  {
   "cell_type": "code",
   "execution_count": 59,
   "id": "d840c3d0-55d7-4652-8eaa-2f6b604e406f",
   "metadata": {},
   "outputs": [],
   "source": [
    "with open('weights_1.txt') as f:\n",
    "    content = f.read()\n",
    "weight = eval(content)"
   ]
  },
  {
   "cell_type": "code",
   "execution_count": 61,
   "id": "379c763e-78a4-41a8-9595-2ef2d4aba8c2",
   "metadata": {},
   "outputs": [
    {
     "data": {
      "text/plain": [
       "array([74, 74, 72, ..., 75, 75, 73])"
      ]
     },
     "execution_count": 61,
     "metadata": {},
     "output_type": "execute_result"
    }
   ],
   "source": [
    "arr_height = np.array(height)\n",
    "arr_height"
   ]
  },
  {
   "cell_type": "code",
   "execution_count": 62,
   "id": "71f5d336-c051-402e-8b8e-077538d13738",
   "metadata": {},
   "outputs": [
    {
     "data": {
      "text/plain": [
       "array([180, 215, 210, ..., 205, 190, 195])"
      ]
     },
     "execution_count": 62,
     "metadata": {},
     "output_type": "execute_result"
    }
   ],
   "source": [
    "arr_weight = np.array(weight)\n",
    "arr_weight"
   ]
  },
  {
   "cell_type": "code",
   "execution_count": 63,
   "id": "42c0c158-1cf7-4004-b5d5-1184a5801931",
   "metadata": {},
   "outputs": [
    {
     "data": {
      "text/plain": [
       "array([1.8796, 1.8796, 1.8288, ..., 1.905 , 1.905 , 1.8542])"
      ]
     },
     "execution_count": 63,
     "metadata": {},
     "output_type": "execute_result"
    }
   ],
   "source": [
    "arr_height_m =  arr_height * 0.0254\n",
    "arr_height_m"
   ]
  },
  {
   "cell_type": "code",
   "execution_count": 64,
   "id": "38f09e7a-c522-4a70-81a9-e152f1a24733",
   "metadata": {},
   "outputs": [
    {
     "data": {
      "text/plain": [
       "array([81.64656, 97.52228, 95.25432, ..., 92.98636, 86.18248, 88.45044])"
      ]
     },
     "execution_count": 64,
     "metadata": {},
     "output_type": "execute_result"
    }
   ],
   "source": [
    "arr_weight_kg = arr_weight * 0.453592\n",
    "arr_weight_kg"
   ]
  },
  {
   "cell_type": "code",
   "execution_count": 65,
   "id": "520c8ca8-639c-48e2-b9e8-fb429e2f4e36",
   "metadata": {},
   "outputs": [
    {
     "data": {
      "text/plain": [
       "array([23.11037639, 27.60406069, 28.48080465, ..., 25.62295933,\n",
       "       23.74810865, 25.72686361])"
      ]
     },
     "execution_count": 65,
     "metadata": {},
     "output_type": "execute_result"
    }
   ],
   "source": [
    "arr_bmi = arr_weight_kg / (arr_height_m * arr_height_m)\n",
    "arr_bmi"
   ]
  },
  {
   "cell_type": "code",
   "execution_count": 66,
   "id": "118835b6-29fe-4b5d-8741-b90dd90adeb9",
   "metadata": {},
   "outputs": [
    {
     "data": {
      "text/plain": [
       "array([1.8542, 1.8796, 1.8288, 1.8542, 1.7526, 1.8288, 1.8542, 1.905 ,\n",
       "       1.905 , 1.8542, 1.8288])"
      ]
     },
     "execution_count": 66,
     "metadata": {},
     "output_type": "execute_result"
    }
   ],
   "source": [
    "arr_height_m_100 = arr_height_m[100:111]\n",
    "arr_height_m_100"
   ]
  },
  {
   "cell_type": "code",
   "execution_count": 67,
   "id": "85bb017c-9ddf-49ae-8a47-0609c286819e",
   "metadata": {},
   "outputs": [
    {
     "data": {
      "text/plain": [
       "array([20.54255679, 20.54255679, 20.69282047, 20.69282047, 20.34343189,\n",
       "       20.34343189, 20.69282047, 20.15883472, 19.4984471 , 20.69282047,\n",
       "       20.9205219 ])"
      ]
     },
     "execution_count": 67,
     "metadata": {},
     "output_type": "execute_result"
    }
   ],
   "source": [
    "arr_bmi[arr_bmi < 21]"
   ]
  },
  {
   "cell_type": "code",
   "execution_count": 68,
   "id": "95573555-aa7d-4e79-8bbe-637f5093e37f",
   "metadata": {},
   "outputs": [
    {
     "data": {
      "text/plain": [
       "np.float64(1.8717172413793102)"
      ]
     },
     "execution_count": 68,
     "metadata": {},
     "output_type": "execute_result"
    }
   ],
   "source": [
    "arr_height_m.mean()"
   ]
  },
  {
   "cell_type": "code",
   "execution_count": 69,
   "id": "0aa5714f-61a0-42f9-bda3-175283f42b21",
   "metadata": {},
   "outputs": [
    {
     "data": {
      "text/plain": [
       "np.float64(91.33019058916256)"
      ]
     },
     "execution_count": 69,
     "metadata": {},
     "output_type": "execute_result"
    }
   ],
   "source": [
    "arr_weight_kg.mean()"
   ]
  },
  {
   "cell_type": "code",
   "execution_count": 70,
   "id": "3cb478dd-f31a-4751-aaf0-e8431ac189c0",
   "metadata": {},
   "outputs": [
    {
     "data": {
      "text/plain": [
       "np.float64(2.1082)"
      ]
     },
     "execution_count": 70,
     "metadata": {},
     "output_type": "execute_result"
    }
   ],
   "source": [
    "arr_height_m.max()"
   ]
  },
  {
   "cell_type": "code",
   "execution_count": 71,
   "id": "cd7a6ea9-b498-4a1f-9431-42cb8a3140b8",
   "metadata": {},
   "outputs": [
    {
     "data": {
      "text/plain": [
       "np.float64(131.54167999999999)"
      ]
     },
     "execution_count": 71,
     "metadata": {},
     "output_type": "execute_result"
    }
   ],
   "source": [
    "arr_weight_kg.max()"
   ]
  },
  {
   "cell_type": "code",
   "execution_count": 72,
   "id": "fe46f4ee-3523-4cb9-936b-3d08b287428c",
   "metadata": {},
   "outputs": [
    {
     "data": {
      "text/plain": [
       "np.float64(1.7018)"
      ]
     },
     "execution_count": 72,
     "metadata": {},
     "output_type": "execute_result"
    }
   ],
   "source": [
    "arr_height_m.min()"
   ]
  },
  {
   "cell_type": "code",
   "execution_count": 73,
   "id": "3c3c7d7c-9be8-4220-86df-795c5ad4be76",
   "metadata": {},
   "outputs": [
    {
     "data": {
      "text/plain": [
       "np.float64(68.0388)"
      ]
     },
     "execution_count": 73,
     "metadata": {},
     "output_type": "execute_result"
    }
   ],
   "source": [
    "arr_weight_kg.min()"
   ]
  },
  {
   "cell_type": "markdown",
   "id": "1da0661b-47f1-42ff-970d-93402260e8fe",
   "metadata": {},
   "source": [
    "1. Tạo array arr có kích thước 3x3 với các giá trị True\n",
    "2. Cho arr_1D = np.array([0 1 2 3 4 5 6 7 8]). Tạo array 2 chiều có kích thước 3x3 từ arr_1D, và lưu vào arr_2D Trong arr_2D, chuyển cột 1 sang cột 3 và ngược lại.\n",
    "3. Từ arr_2D của câu 2 (sau khi đổi thứ tự cột), chuyển dòng 1 sang dòng 2 và ngược lại.\n",
    "4. Từ arr_2D của câu 3, đảo ngược các dòng của arr_2D.\n",
    "5. Từ arr_2D của câu 4, đảo ngược các cột của arr_2D.\n",
    "6. Cho arr_2D_null = np.array([[1, 2, 3], [np.NaN, 5, 6], [7, np.NaN, 9], [4, 5, 6]]), Kiểm tra trong array có giá trị rỗng không?\n",
    "7. Từ arr_2D_null của câu 6, thay thế giá trị null bằng 0."
   ]
  },
  {
   "cell_type": "code",
   "execution_count": 75,
   "id": "f2252b3d-6349-41c1-a1fd-2007581c4f5b",
   "metadata": {},
   "outputs": [
    {
     "data": {
      "text/plain": [
       "array([[ True,  True,  True],\n",
       "       [ True,  True,  True],\n",
       "       [ True,  True,  True]])"
      ]
     },
     "execution_count": 75,
     "metadata": {},
     "output_type": "execute_result"
    }
   ],
   "source": [
    "arr = np.ones((3,3),dtype=bool)\n",
    "arr"
   ]
  },
  {
   "cell_type": "code",
   "execution_count": 78,
   "id": "faaa0805-520a-4502-90db-1c43e7ea5fd7",
   "metadata": {},
   "outputs": [
    {
     "data": {
      "text/plain": [
       "array([[0, 1, 2],\n",
       "       [3, 4, 5],\n",
       "       [6, 7, 8]])"
      ]
     },
     "execution_count": 78,
     "metadata": {},
     "output_type": "execute_result"
    }
   ],
   "source": [
    "arr_1D = np.array([0, 1, 2, 3, 4, 5, 6, 7, 8])\n",
    "arr_2D = arr_1D.reshape((3,3))\n",
    "arr_2D"
   ]
  },
  {
   "cell_type": "code",
   "execution_count": 79,
   "id": "06975363-5831-4bed-99ec-fafa700920e6",
   "metadata": {},
   "outputs": [
    {
     "data": {
      "text/plain": [
       "array([[2, 1, 0],\n",
       "       [5, 4, 3],\n",
       "       [8, 7, 6]])"
      ]
     },
     "execution_count": 79,
     "metadata": {},
     "output_type": "execute_result"
    }
   ],
   "source": [
    "arr_2D[:,[0,2]] = arr_2D[:,[2,0]]\n",
    "arr_2D"
   ]
  },
  {
   "cell_type": "code",
   "execution_count": 80,
   "id": "e10d2f90-bc66-4991-8581-d88b555b6db0",
   "metadata": {},
   "outputs": [
    {
     "data": {
      "text/plain": [
       "array([[5, 4, 3],\n",
       "       [2, 1, 0],\n",
       "       [8, 7, 6]])"
      ]
     },
     "execution_count": 80,
     "metadata": {},
     "output_type": "execute_result"
    }
   ],
   "source": [
    "arr_2D[[0,1],:] = arr_2D[[1,0],:]\n",
    "arr_2D"
   ]
  },
  {
   "cell_type": "code",
   "execution_count": 81,
   "id": "1101345d-32a7-4a64-9add-2a1a13312fea",
   "metadata": {},
   "outputs": [
    {
     "data": {
      "text/plain": [
       "array([[8, 7, 6],\n",
       "       [2, 1, 0],\n",
       "       [5, 4, 3]])"
      ]
     },
     "execution_count": 81,
     "metadata": {},
     "output_type": "execute_result"
    }
   ],
   "source": [
    "arr_2D[::-1]"
   ]
  },
  {
   "cell_type": "code",
   "execution_count": 82,
   "id": "0b3b04e8-e8c6-499b-842d-ee2b28adceb2",
   "metadata": {},
   "outputs": [
    {
     "data": {
      "text/plain": [
       "array([[3, 4, 5],\n",
       "       [0, 1, 2],\n",
       "       [6, 7, 8]])"
      ]
     },
     "execution_count": 82,
     "metadata": {},
     "output_type": "execute_result"
    }
   ],
   "source": [
    "arr_2D[:,::-1]"
   ]
  },
  {
   "cell_type": "code",
   "execution_count": 84,
   "id": "967615da-f16c-4f76-afce-1aff51a16098",
   "metadata": {},
   "outputs": [],
   "source": [
    "arr_2D_null = np.array([[1, 2, 3], [np.nan, 5, 6], [7, np.nan, 9], [4, 5, 6]])"
   ]
  },
  {
   "cell_type": "code",
   "execution_count": 87,
   "id": "389b8fe2-9d96-452d-934f-556f5c070eda",
   "metadata": {},
   "outputs": [],
   "source": [
    "arr_2D_null[np.isnan(arr_2D_null)] = 0"
   ]
  },
  {
   "cell_type": "code",
   "execution_count": 89,
   "id": "2a3126ca-0f39-4a23-a08f-8e92cc20dd3a",
   "metadata": {},
   "outputs": [
    {
     "data": {
      "text/plain": [
       "array([[1., 2., 3.],\n",
       "       [0., 5., 6.],\n",
       "       [7., 0., 9.],\n",
       "       [4., 5., 6.]])"
      ]
     },
     "execution_count": 89,
     "metadata": {},
     "output_type": "execute_result"
    }
   ],
   "source": [
    "arr_2D_null"
   ]
  },
  {
   "cell_type": "code",
   "execution_count": 90,
   "id": "50443359-1f4a-4679-bab6-e9a3a0637ba8",
   "metadata": {},
   "outputs": [
    {
     "data": {
      "text/plain": [
       "np.False_"
      ]
     },
     "execution_count": 90,
     "metadata": {},
     "output_type": "execute_result"
    }
   ],
   "source": [
    "np.isnan(arr_2D_null).any()"
   ]
  }
 ],
 "metadata": {
  "kernelspec": {
   "display_name": "Python 3 (ipykernel)",
   "language": "python",
   "name": "python3"
  },
  "language_info": {
   "codemirror_mode": {
    "name": "ipython",
    "version": 3
   },
   "file_extension": ".py",
   "mimetype": "text/x-python",
   "name": "python",
   "nbconvert_exporter": "python",
   "pygments_lexer": "ipython3",
   "version": "3.12.6"
  }
 },
 "nbformat": 4,
 "nbformat_minor": 5
}
