{
 "cells": [
  {
   "cell_type": "code",
   "execution_count": null,
   "id": "f0462fb9",
   "metadata": {},
   "outputs": [],
   "source": [
    "import numpy as np\n",
    "import pandas as pd"
   ]
  },
  {
   "cell_type": "markdown",
   "id": "11d7d2ac",
   "metadata": {},
   "source": [
    "# Tạo df"
   ]
  },
  {
   "cell_type": "code",
   "execution_count": null,
   "id": "b732a539",
   "metadata": {},
   "outputs": [],
   "source": [
    "df = pd.DataFrame([1,2,3,4])\n",
    "df"
   ]
  },
  {
   "cell_type": "code",
   "execution_count": null,
   "id": "a72ab1b8",
   "metadata": {},
   "outputs": [],
   "source": [
    "lst = [[1,2,3],[4,5,np.nan]]\n",
    "df1 = pd.DataFrame(lst,index=['a','b'],columns=['A','B','C'])\n",
    "df1"
   ]
  },
  {
   "cell_type": "code",
   "execution_count": null,
   "id": "398a9f7d",
   "metadata": {},
   "outputs": [],
   "source": [
    "dic = {'name':['an','binh','tuan'],\n",
    "      'age':[18,19,20]}\n",
    "df = pd.DataFrame(dic,columns=['name'])\n",
    "df"
   ]
  },
  {
   "cell_type": "markdown",
   "id": "6c8d38c7",
   "metadata": {},
   "source": [
    "# Đọc tập tin dataset (.csv, .xlsx)"
   ]
  },
  {
   "cell_type": "code",
   "execution_count": null,
   "id": "e89417b5",
   "metadata": {},
   "outputs": [],
   "source": [
    "df = pd.read_csv('euro2012.csv',index_col=0,sep=',')\n",
    "df"
   ]
  },
  {
   "cell_type": "code",
   "execution_count": null,
   "id": "4126c1a4",
   "metadata": {},
   "outputs": [],
   "source": [
    "df = pd.read_excel('Canada.xlsx',sheet_name='Canada by Citizenship',skiprows=20,skipfooter=2)\n",
    "df"
   ]
  },
  {
   "cell_type": "markdown",
   "id": "f54e33b0",
   "metadata": {},
   "source": [
    "# Thuộc tính và phương thức df"
   ]
  },
  {
   "cell_type": "code",
   "execution_count": null,
   "id": "bd83bd4d",
   "metadata": {},
   "outputs": [],
   "source": [
    "df.shape"
   ]
  },
  {
   "cell_type": "code",
   "execution_count": null,
   "id": "5ec7e518",
   "metadata": {},
   "outputs": [],
   "source": [
    "df.size"
   ]
  },
  {
   "cell_type": "code",
   "execution_count": null,
   "id": "96384a5e",
   "metadata": {},
   "outputs": [],
   "source": [
    "df.columns"
   ]
  },
  {
   "cell_type": "code",
   "execution_count": null,
   "id": "f44c9780",
   "metadata": {},
   "outputs": [],
   "source": [
    "df.index"
   ]
  },
  {
   "cell_type": "code",
   "execution_count": null,
   "id": "07763742",
   "metadata": {},
   "outputs": [],
   "source": [
    "df.values"
   ]
  },
  {
   "cell_type": "code",
   "execution_count": null,
   "id": "a41ff9f5",
   "metadata": {},
   "outputs": [],
   "source": [
    "# phương thức cơ bản"
   ]
  },
  {
   "cell_type": "code",
   "execution_count": null,
   "id": "5048fc14",
   "metadata": {},
   "outputs": [],
   "source": [
    "df.head()"
   ]
  },
  {
   "cell_type": "code",
   "execution_count": null,
   "id": "b802fcd8",
   "metadata": {},
   "outputs": [],
   "source": [
    "df.tail()"
   ]
  },
  {
   "cell_type": "code",
   "execution_count": null,
   "id": "28ec7006",
   "metadata": {},
   "outputs": [],
   "source": [
    "df.info()"
   ]
  },
  {
   "cell_type": "code",
   "execution_count": null,
   "id": "33588345",
   "metadata": {},
   "outputs": [],
   "source": [
    "df1"
   ]
  },
  {
   "cell_type": "code",
   "execution_count": null,
   "id": "2afb6a18",
   "metadata": {},
   "outputs": [],
   "source": [
    "df1.info()"
   ]
  },
  {
   "cell_type": "code",
   "execution_count": null,
   "id": "07a7692b",
   "metadata": {},
   "outputs": [],
   "source": [
    "df1.describe()"
   ]
  },
  {
   "cell_type": "markdown",
   "id": "dca6511c",
   "metadata": {},
   "source": [
    "# Truy xuất dữ liệu"
   ]
  },
  {
   "cell_type": "code",
   "execution_count": null,
   "id": "12ed0c1c",
   "metadata": {},
   "outputs": [],
   "source": [
    "df.head()"
   ]
  },
  {
   "cell_type": "code",
   "execution_count": null,
   "id": "04ea6dff",
   "metadata": {},
   "outputs": [],
   "source": [
    "# Truy xuất 1 pt\n",
    "# tendf.iloc[index dong, index cot]\n",
    "# tendf.loc[label dong, label cot]"
   ]
  },
  {
   "cell_type": "code",
   "execution_count": null,
   "id": "9366db89",
   "metadata": {},
   "outputs": [],
   "source": [
    "df.loc[0,'Team']"
   ]
  },
  {
   "cell_type": "code",
   "execution_count": null,
   "id": "5fc8b267",
   "metadata": {},
   "outputs": [],
   "source": [
    "df.iloc[0,-1]"
   ]
  },
  {
   "cell_type": "code",
   "execution_count": null,
   "id": "5c39ac3b",
   "metadata": {},
   "outputs": [],
   "source": [
    "# Truy xuất nhiều pt\n",
    "# tendf.iloc[start:stop:step, start:stop:step]\n",
    "# tendf.loc[danh sách label dong,danh sach label cot]"
   ]
  },
  {
   "cell_type": "code",
   "execution_count": null,
   "id": "90e6c36b",
   "metadata": {},
   "outputs": [],
   "source": [
    "# 2 dòng đầu\n",
    "df.iloc[:2]"
   ]
  },
  {
   "cell_type": "code",
   "execution_count": null,
   "id": "888e7cb8",
   "metadata": {},
   "outputs": [],
   "source": [
    "# 2 dòng đầu, 3 cột đầu\n",
    "df.iloc[:2,:3]"
   ]
  },
  {
   "cell_type": "code",
   "execution_count": null,
   "id": "53cfd23a",
   "metadata": {},
   "outputs": [],
   "source": [
    "df.loc[[0,1],['Team','Goals','Shots on target']]"
   ]
  },
  {
   "cell_type": "code",
   "execution_count": null,
   "id": "afe418a2",
   "metadata": {},
   "outputs": [],
   "source": [
    "# Truy xuất cột\n",
    "df.iloc[:,1]"
   ]
  },
  {
   "cell_type": "code",
   "execution_count": null,
   "id": "9c687e38",
   "metadata": {},
   "outputs": [],
   "source": [
    "df.loc[:,'Goals']"
   ]
  },
  {
   "cell_type": "code",
   "execution_count": null,
   "id": "0f97a6f2",
   "metadata": {},
   "outputs": [],
   "source": [
    "#Tendf['label côt']\n",
    "df['Goals']"
   ]
  },
  {
   "cell_type": "code",
   "execution_count": null,
   "id": "3e2a0897",
   "metadata": {},
   "outputs": [],
   "source": [
    "# Truy xuất theo điều kiện\n",
    "# df.loc[bieu thuc dk , danh sach label cot]"
   ]
  },
  {
   "cell_type": "code",
   "execution_count": null,
   "id": "fb35cf42",
   "metadata": {},
   "outputs": [],
   "source": [
    "df['Goals'] > 6"
   ]
  },
  {
   "cell_type": "code",
   "execution_count": null,
   "id": "d3213160",
   "metadata": {},
   "outputs": [],
   "source": [
    "df.loc[df['Goals'] > 6,['Team','Goals','Shots on target']]"
   ]
  },
  {
   "cell_type": "markdown",
   "id": "a0178045",
   "metadata": {},
   "source": [
    "# Tính thống kê"
   ]
  },
  {
   "cell_type": "code",
   "execution_count": null,
   "id": "b3f99423",
   "metadata": {},
   "outputs": [],
   "source": [
    "df.sum(numeric_only=True,axis=1)"
   ]
  },
  {
   "cell_type": "code",
   "execution_count": null,
   "id": "8f91ea62",
   "metadata": {},
   "outputs": [],
   "source": [
    "df['Goals'].mean()"
   ]
  },
  {
   "cell_type": "code",
   "execution_count": null,
   "id": "678d956b",
   "metadata": {},
   "outputs": [],
   "source": [
    "df.head()"
   ]
  },
  {
   "cell_type": "code",
   "execution_count": null,
   "id": "5665d298",
   "metadata": {},
   "outputs": [],
   "source": [
    "df.sort_values(by=['Goals','Team'],ascending=[False,False])"
   ]
  },
  {
   "cell_type": "markdown",
   "id": "11d508d4",
   "metadata": {},
   "source": [
    "# Thống kê gom nhóm"
   ]
  },
  {
   "cell_type": "code",
   "execution_count": null,
   "id": "9c7f9670",
   "metadata": {},
   "outputs": [],
   "source": [
    "# tendf.groupby('column label')['columns'].func()"
   ]
  },
  {
   "cell_type": "code",
   "execution_count": null,
   "id": "23d5e1a5",
   "metadata": {},
   "outputs": [],
   "source": []
  }
 ],
 "metadata": {
  "kernelspec": {
   "display_name": "Python 3 (ipykernel)",
   "language": "python",
   "name": "python3"
  },
  "language_info": {
   "codemirror_mode": {
    "name": "ipython",
    "version": 3
   },
   "file_extension": ".py",
   "mimetype": "text/x-python",
   "name": "python",
   "nbconvert_exporter": "python",
   "pygments_lexer": "ipython3",
   "version": "3.12.6"
  }
 },
 "nbformat": 4,
 "nbformat_minor": 5
}
