{
 "cells": [
  {
   "cell_type": "code",
   "execution_count": 1,
   "id": "0fbd9fdf",
   "metadata": {},
   "outputs": [],
   "source": [
    "import numpy as np\n",
    "import pandas as pd"
   ]
  },
  {
   "cell_type": "markdown",
   "id": "5e884a8f",
   "metadata": {},
   "source": [
    "# tạo series"
   ]
  },
  {
   "cell_type": "code",
   "execution_count": 2,
   "id": "5928a33a",
   "metadata": {},
   "outputs": [
    {
     "data": {
      "text/plain": [
       "0    1\n",
       "1    2\n",
       "2    3\n",
       "dtype: int32"
      ]
     },
     "execution_count": 2,
     "metadata": {},
     "output_type": "execute_result"
    }
   ],
   "source": [
    "lst = [1,2,3]\n",
    "s = pd.Series(lst,dtype=np.int32)\n",
    "s"
   ]
  },
  {
   "cell_type": "code",
   "execution_count": 3,
   "id": "2f3c7206",
   "metadata": {},
   "outputs": [
    {
     "data": {
      "text/plain": [
       "0    1.0\n",
       "1    2.0\n",
       "2    3.0\n",
       "dtype: float64"
      ]
     },
     "execution_count": 3,
     "metadata": {},
     "output_type": "execute_result"
    }
   ],
   "source": [
    "arr = np.array([1,2,3])\n",
    "s = pd.Series(arr,dtype=float)\n",
    "s"
   ]
  },
  {
   "cell_type": "code",
   "execution_count": 4,
   "id": "8564783e",
   "metadata": {},
   "outputs": [
    {
     "data": {
      "text/plain": [
       "0       1\n",
       "1       2\n",
       "2       3\n",
       "3     1.5\n",
       "4    True\n",
       "dtype: object"
      ]
     },
     "execution_count": 4,
     "metadata": {},
     "output_type": "execute_result"
    }
   ],
   "source": [
    "lst = [1,2,3,1.5,True]\n",
    "s = pd.Series(lst)\n",
    "s"
   ]
  },
  {
   "cell_type": "code",
   "execution_count": 5,
   "id": "f6afb94d",
   "metadata": {},
   "outputs": [
    {
     "data": {
      "text/plain": [
       "0    1.0\n",
       "1    2.0\n",
       "2    3.0\n",
       "3    1.5\n",
       "4    1.0\n",
       "dtype: float64"
      ]
     },
     "execution_count": 5,
     "metadata": {},
     "output_type": "execute_result"
    }
   ],
   "source": [
    "arr = np.array([1,2,3,1.5,True])\n",
    "s = pd.Series(arr)\n",
    "s"
   ]
  },
  {
   "cell_type": "code",
   "execution_count": 6,
   "id": "275ef396",
   "metadata": {},
   "outputs": [
    {
     "data": {
      "text/plain": [
       "a    3\n",
       "b    4\n",
       "c    6\n",
       "d    7\n",
       "e    8\n",
       "dtype: int64"
      ]
     },
     "execution_count": 6,
     "metadata": {},
     "output_type": "execute_result"
    }
   ],
   "source": [
    "s = pd.Series([3,4,6,7,8],index=['a','b','c','d','e'])\n",
    "s"
   ]
  },
  {
   "cell_type": "code",
   "execution_count": 7,
   "id": "087546ed",
   "metadata": {},
   "outputs": [
    {
     "data": {
      "text/plain": [
       "100    3\n",
       "101    4\n",
       "102    6\n",
       "103    7\n",
       "104    8\n",
       "dtype: int64"
      ]
     },
     "execution_count": 7,
     "metadata": {},
     "output_type": "execute_result"
    }
   ],
   "source": [
    "s = pd.Series([3,4,6,7,8],index=[100,101,102,103,104])\n",
    "s"
   ]
  },
  {
   "cell_type": "code",
   "execution_count": 8,
   "id": "f7725db5",
   "metadata": {},
   "outputs": [
    {
     "data": {
      "text/plain": [
       "100    10\n",
       "101    10\n",
       "102    10\n",
       "103    10\n",
       "104    10\n",
       "dtype: int64"
      ]
     },
     "execution_count": 8,
     "metadata": {},
     "output_type": "execute_result"
    }
   ],
   "source": [
    "s = pd.Series(10,index=[100,101,102,103,104])\n",
    "s"
   ]
  },
  {
   "cell_type": "markdown",
   "id": "3c4506f0",
   "metadata": {},
   "source": [
    "# Truy xuất pt"
   ]
  },
  {
   "cell_type": "code",
   "execution_count": 9,
   "id": "77b0a390",
   "metadata": {},
   "outputs": [],
   "source": [
    "# label : index tường minh\n",
    "# index : index ngầm định (theo numpy)"
   ]
  },
  {
   "cell_type": "code",
   "execution_count": 10,
   "id": "30d57003",
   "metadata": {},
   "outputs": [],
   "source": [
    "# Truy xuất 1 pt\n",
    "# tenseries.loc[label]\n",
    "# tenseries.iloc[index]"
   ]
  },
  {
   "cell_type": "code",
   "execution_count": 11,
   "id": "e2fde1b6",
   "metadata": {},
   "outputs": [
    {
     "data": {
      "text/plain": [
       "100    10\n",
       "101    10\n",
       "102    10\n",
       "103    10\n",
       "104    10\n",
       "dtype: int64"
      ]
     },
     "execution_count": 11,
     "metadata": {},
     "output_type": "execute_result"
    }
   ],
   "source": [
    "s"
   ]
  },
  {
   "cell_type": "code",
   "execution_count": 13,
   "id": "5fda91e6",
   "metadata": {},
   "outputs": [],
   "source": [
    "# s.loc['a']"
   ]
  },
  {
   "cell_type": "code",
   "execution_count": 14,
   "id": "b5750007",
   "metadata": {},
   "outputs": [
    {
     "data": {
      "text/plain": [
       "np.int64(10)"
      ]
     },
     "execution_count": 14,
     "metadata": {},
     "output_type": "execute_result"
    }
   ],
   "source": [
    "s.iloc[0]"
   ]
  },
  {
   "cell_type": "code",
   "execution_count": 15,
   "id": "17a70d06",
   "metadata": {},
   "outputs": [
    {
     "data": {
      "text/plain": [
       "np.int64(10)"
      ]
     },
     "execution_count": 15,
     "metadata": {},
     "output_type": "execute_result"
    }
   ],
   "source": [
    "s.iloc[-1]"
   ]
  },
  {
   "cell_type": "code",
   "execution_count": null,
   "id": "ef449866",
   "metadata": {},
   "outputs": [],
   "source": [
    "# Truy xuất 1 pt trực tiếp\n",
    "# tenseries[label]\n",
    "# tenseries[index] (Lưu ý : chỉ dùng khi label là chuỗi)"
   ]
  },
  {
   "cell_type": "code",
   "execution_count": 16,
   "id": "2f7b2a91",
   "metadata": {},
   "outputs": [
    {
     "ename": "KeyError",
     "evalue": "'a'",
     "output_type": "error",
     "traceback": [
      "\u001b[31m---------------------------------------------------------------------------\u001b[39m",
      "\u001b[31mKeyError\u001b[39m                                  Traceback (most recent call last)",
      "\u001b[36mFile \u001b[39m\u001b[32m~\\AppData\\Local\\Programs\\Python\\Python312\\Lib\\site-packages\\pandas\\core\\indexes\\base.py:3805\u001b[39m, in \u001b[36mIndex.get_loc\u001b[39m\u001b[34m(self, key)\u001b[39m\n\u001b[32m   3804\u001b[39m \u001b[38;5;28;01mtry\u001b[39;00m:\n\u001b[32m-> \u001b[39m\u001b[32m3805\u001b[39m     \u001b[38;5;28;01mreturn\u001b[39;00m \u001b[38;5;28;43mself\u001b[39;49m\u001b[43m.\u001b[49m\u001b[43m_engine\u001b[49m\u001b[43m.\u001b[49m\u001b[43mget_loc\u001b[49m\u001b[43m(\u001b[49m\u001b[43mcasted_key\u001b[49m\u001b[43m)\u001b[49m\n\u001b[32m   3806\u001b[39m \u001b[38;5;28;01mexcept\u001b[39;00m \u001b[38;5;167;01mKeyError\u001b[39;00m \u001b[38;5;28;01mas\u001b[39;00m err:\n",
      "\u001b[36mFile \u001b[39m\u001b[32mindex.pyx:167\u001b[39m, in \u001b[36mpandas._libs.index.IndexEngine.get_loc\u001b[39m\u001b[34m()\u001b[39m\n",
      "\u001b[36mFile \u001b[39m\u001b[32mindex.pyx:175\u001b[39m, in \u001b[36mpandas._libs.index.IndexEngine.get_loc\u001b[39m\u001b[34m()\u001b[39m\n",
      "\u001b[36mFile \u001b[39m\u001b[32mpandas\\\\_libs\\\\index_class_helper.pxi:70\u001b[39m, in \u001b[36mpandas._libs.index.Int64Engine._check_type\u001b[39m\u001b[34m()\u001b[39m\n",
      "\u001b[31mKeyError\u001b[39m: 'a'",
      "\nThe above exception was the direct cause of the following exception:\n",
      "\u001b[31mKeyError\u001b[39m                                  Traceback (most recent call last)",
      "\u001b[36mCell\u001b[39m\u001b[36m \u001b[39m\u001b[32mIn[16]\u001b[39m\u001b[32m, line 1\u001b[39m\n\u001b[32m----> \u001b[39m\u001b[32m1\u001b[39m \u001b[43ms\u001b[49m\u001b[43m[\u001b[49m\u001b[33;43m'\u001b[39;49m\u001b[33;43ma\u001b[39;49m\u001b[33;43m'\u001b[39;49m\u001b[43m]\u001b[49m\n",
      "\u001b[36mFile \u001b[39m\u001b[32m~\\AppData\\Local\\Programs\\Python\\Python312\\Lib\\site-packages\\pandas\\core\\series.py:1121\u001b[39m, in \u001b[36mSeries.__getitem__\u001b[39m\u001b[34m(self, key)\u001b[39m\n\u001b[32m   1118\u001b[39m     \u001b[38;5;28;01mreturn\u001b[39;00m \u001b[38;5;28mself\u001b[39m._values[key]\n\u001b[32m   1120\u001b[39m \u001b[38;5;28;01melif\u001b[39;00m key_is_scalar:\n\u001b[32m-> \u001b[39m\u001b[32m1121\u001b[39m     \u001b[38;5;28;01mreturn\u001b[39;00m \u001b[38;5;28;43mself\u001b[39;49m\u001b[43m.\u001b[49m\u001b[43m_get_value\u001b[49m\u001b[43m(\u001b[49m\u001b[43mkey\u001b[49m\u001b[43m)\u001b[49m\n\u001b[32m   1123\u001b[39m \u001b[38;5;66;03m# Convert generator to list before going through hashable part\u001b[39;00m\n\u001b[32m   1124\u001b[39m \u001b[38;5;66;03m# (We will iterate through the generator there to check for slices)\u001b[39;00m\n\u001b[32m   1125\u001b[39m \u001b[38;5;28;01mif\u001b[39;00m is_iterator(key):\n",
      "\u001b[36mFile \u001b[39m\u001b[32m~\\AppData\\Local\\Programs\\Python\\Python312\\Lib\\site-packages\\pandas\\core\\series.py:1237\u001b[39m, in \u001b[36mSeries._get_value\u001b[39m\u001b[34m(self, label, takeable)\u001b[39m\n\u001b[32m   1234\u001b[39m     \u001b[38;5;28;01mreturn\u001b[39;00m \u001b[38;5;28mself\u001b[39m._values[label]\n\u001b[32m   1236\u001b[39m \u001b[38;5;66;03m# Similar to Index.get_value, but we do not fall back to positional\u001b[39;00m\n\u001b[32m-> \u001b[39m\u001b[32m1237\u001b[39m loc = \u001b[38;5;28;43mself\u001b[39;49m\u001b[43m.\u001b[49m\u001b[43mindex\u001b[49m\u001b[43m.\u001b[49m\u001b[43mget_loc\u001b[49m\u001b[43m(\u001b[49m\u001b[43mlabel\u001b[49m\u001b[43m)\u001b[49m\n\u001b[32m   1239\u001b[39m \u001b[38;5;28;01mif\u001b[39;00m is_integer(loc):\n\u001b[32m   1240\u001b[39m     \u001b[38;5;28;01mreturn\u001b[39;00m \u001b[38;5;28mself\u001b[39m._values[loc]\n",
      "\u001b[36mFile \u001b[39m\u001b[32m~\\AppData\\Local\\Programs\\Python\\Python312\\Lib\\site-packages\\pandas\\core\\indexes\\base.py:3812\u001b[39m, in \u001b[36mIndex.get_loc\u001b[39m\u001b[34m(self, key)\u001b[39m\n\u001b[32m   3807\u001b[39m     \u001b[38;5;28;01mif\u001b[39;00m \u001b[38;5;28misinstance\u001b[39m(casted_key, \u001b[38;5;28mslice\u001b[39m) \u001b[38;5;129;01mor\u001b[39;00m (\n\u001b[32m   3808\u001b[39m         \u001b[38;5;28misinstance\u001b[39m(casted_key, abc.Iterable)\n\u001b[32m   3809\u001b[39m         \u001b[38;5;129;01mand\u001b[39;00m \u001b[38;5;28many\u001b[39m(\u001b[38;5;28misinstance\u001b[39m(x, \u001b[38;5;28mslice\u001b[39m) \u001b[38;5;28;01mfor\u001b[39;00m x \u001b[38;5;129;01min\u001b[39;00m casted_key)\n\u001b[32m   3810\u001b[39m     ):\n\u001b[32m   3811\u001b[39m         \u001b[38;5;28;01mraise\u001b[39;00m InvalidIndexError(key)\n\u001b[32m-> \u001b[39m\u001b[32m3812\u001b[39m     \u001b[38;5;28;01mraise\u001b[39;00m \u001b[38;5;167;01mKeyError\u001b[39;00m(key) \u001b[38;5;28;01mfrom\u001b[39;00m\u001b[38;5;250m \u001b[39m\u001b[34;01merr\u001b[39;00m\n\u001b[32m   3813\u001b[39m \u001b[38;5;28;01mexcept\u001b[39;00m \u001b[38;5;167;01mTypeError\u001b[39;00m:\n\u001b[32m   3814\u001b[39m     \u001b[38;5;66;03m# If we have a listlike key, _check_indexing_error will raise\u001b[39;00m\n\u001b[32m   3815\u001b[39m     \u001b[38;5;66;03m#  InvalidIndexError. Otherwise we fall through and re-raise\u001b[39;00m\n\u001b[32m   3816\u001b[39m     \u001b[38;5;66;03m#  the TypeError.\u001b[39;00m\n\u001b[32m   3817\u001b[39m     \u001b[38;5;28mself\u001b[39m._check_indexing_error(key)\n",
      "\u001b[31mKeyError\u001b[39m: 'a'"
     ]
    }
   ],
   "source": [
    "# s['a']"
   ]
  },
  {
   "cell_type": "code",
   "execution_count": null,
   "id": "1127b71b",
   "metadata": {},
   "outputs": [],
   "source": [
    "s[0]"
   ]
  },
  {
   "cell_type": "code",
   "execution_count": null,
   "id": "7ab820e2",
   "metadata": {},
   "outputs": [],
   "source": [
    "s[-1]"
   ]
  },
  {
   "cell_type": "code",
   "execution_count": null,
   "id": "ebf9a47c",
   "metadata": {},
   "outputs": [],
   "source": [
    "s1 = pd.Series(['a','b','c'],index=[1,2,3])\n",
    "s1"
   ]
  },
  {
   "cell_type": "code",
   "execution_count": null,
   "id": "471cfda6",
   "metadata": {},
   "outputs": [],
   "source": [
    "s1[1]"
   ]
  },
  {
   "cell_type": "code",
   "execution_count": null,
   "id": "c9731115",
   "metadata": {},
   "outputs": [],
   "source": [
    "s1.iloc[0]"
   ]
  },
  {
   "cell_type": "code",
   "execution_count": null,
   "id": "a0f6aed7",
   "metadata": {},
   "outputs": [],
   "source": [
    "# Truy xuất nhiều pt\n",
    "\n",
    "# tenseries.loc[danh sách label]\n",
    "# tenseries.iloc[start:stop:step]\n",
    "# tenseries.iloc[danh sách index]"
   ]
  },
  {
   "cell_type": "code",
   "execution_count": null,
   "id": "a7ecc2fe",
   "metadata": {},
   "outputs": [],
   "source": [
    "s"
   ]
  },
  {
   "cell_type": "code",
   "execution_count": null,
   "id": "e276591a",
   "metadata": {},
   "outputs": [],
   "source": [
    "# 3pt đầu\n",
    "s.iloc[:3]"
   ]
  },
  {
   "cell_type": "code",
   "execution_count": null,
   "id": "1625c1c4",
   "metadata": {},
   "outputs": [],
   "source": [
    "# 3pt cuối\n",
    "s.iloc[-3:]"
   ]
  },
  {
   "cell_type": "code",
   "execution_count": null,
   "id": "9eec2679",
   "metadata": {},
   "outputs": [],
   "source": [
    "# lấy a,b,e\n",
    "s.loc[['a','b','e']]"
   ]
  },
  {
   "cell_type": "code",
   "execution_count": null,
   "id": "c44761b2",
   "metadata": {},
   "outputs": [],
   "source": [
    "s.iloc[[0,1,-1]]"
   ]
  },
  {
   "cell_type": "code",
   "execution_count": null,
   "id": "aedbd66b",
   "metadata": {},
   "outputs": [],
   "source": [
    "# Truy xuất theo dk\n",
    "# tenseries[bt dk]"
   ]
  },
  {
   "cell_type": "code",
   "execution_count": null,
   "id": "849200c4",
   "metadata": {},
   "outputs": [],
   "source": [
    "s"
   ]
  },
  {
   "cell_type": "code",
   "execution_count": null,
   "id": "cf2c735c",
   "metadata": {},
   "outputs": [],
   "source": [
    "s<5"
   ]
  },
  {
   "cell_type": "code",
   "execution_count": null,
   "id": "e6c498a3",
   "metadata": {},
   "outputs": [],
   "source": [
    "s[s<5]"
   ]
  },
  {
   "cell_type": "code",
   "execution_count": null,
   "id": "01839d1a",
   "metadata": {},
   "outputs": [],
   "source": [
    "s%2==0"
   ]
  },
  {
   "cell_type": "code",
   "execution_count": null,
   "id": "3f534976",
   "metadata": {},
   "outputs": [],
   "source": [
    "s[s%2==0]"
   ]
  },
  {
   "cell_type": "code",
   "execution_count": null,
   "id": "4c1dd654",
   "metadata": {},
   "outputs": [],
   "source": [
    "s[(s>4) & (s<10)]"
   ]
  },
  {
   "cell_type": "markdown",
   "id": "e8eed88a",
   "metadata": {},
   "source": [
    "# Thêm pt"
   ]
  },
  {
   "cell_type": "code",
   "execution_count": null,
   "id": "5f1ba587",
   "metadata": {},
   "outputs": [],
   "source": [
    "s"
   ]
  },
  {
   "cell_type": "code",
   "execution_count": null,
   "id": "f03f9e53",
   "metadata": {},
   "outputs": [],
   "source": [
    "s['f'] = 9\n",
    "s"
   ]
  },
  {
   "cell_type": "code",
   "execution_count": null,
   "id": "5e703f92",
   "metadata": {},
   "outputs": [],
   "source": [
    "s1 = pd.Series([6,7],index=['g','h'])\n",
    "s1"
   ]
  },
  {
   "cell_type": "code",
   "execution_count": null,
   "id": "ef4972bb",
   "metadata": {},
   "outputs": [],
   "source": [
    "s = pd.concat([s,s1])\n",
    "s"
   ]
  },
  {
   "cell_type": "markdown",
   "id": "bbf2880f",
   "metadata": {},
   "source": [
    "# Xóa pt"
   ]
  },
  {
   "cell_type": "code",
   "execution_count": null,
   "id": "97ca9ad1",
   "metadata": {},
   "outputs": [],
   "source": [
    "s.drop('g')"
   ]
  },
  {
   "cell_type": "code",
   "execution_count": null,
   "id": "0af80c5d",
   "metadata": {},
   "outputs": [],
   "source": [
    "s.drop(['a','b'])"
   ]
  },
  {
   "cell_type": "code",
   "execution_count": null,
   "id": "776c889d",
   "metadata": {},
   "outputs": [],
   "source": [
    "s.drop(s.index[[0,-1]])"
   ]
  },
  {
   "cell_type": "markdown",
   "id": "f00e953a",
   "metadata": {},
   "source": [
    "# Cập nhật"
   ]
  },
  {
   "cell_type": "code",
   "execution_count": null,
   "id": "04b3dadf",
   "metadata": {},
   "outputs": [],
   "source": [
    "# B1: Truy xuất pt\n",
    "# B2 : gán gt mới"
   ]
  },
  {
   "cell_type": "code",
   "execution_count": null,
   "id": "291408f0",
   "metadata": {},
   "outputs": [],
   "source": [
    "s"
   ]
  },
  {
   "cell_type": "code",
   "execution_count": null,
   "id": "446ee2cd",
   "metadata": {},
   "outputs": [],
   "source": [
    "s.loc['a'] = 5\n",
    "s"
   ]
  },
  {
   "cell_type": "code",
   "execution_count": null,
   "id": "59827313",
   "metadata": {},
   "outputs": [],
   "source": [
    "s[s<=5] = 0\n",
    "s"
   ]
  },
  {
   "cell_type": "code",
   "execution_count": null,
   "id": "cbb8d5fc",
   "metadata": {},
   "outputs": [],
   "source": [
    "s[s==0] = [1,2]\n",
    "s"
   ]
  },
  {
   "cell_type": "markdown",
   "id": "531c8cc3",
   "metadata": {},
   "source": [
    "# Tạo series từ series"
   ]
  },
  {
   "cell_type": "code",
   "execution_count": null,
   "id": "83c2cd9c",
   "metadata": {},
   "outputs": [],
   "source": [
    "s"
   ]
  },
  {
   "cell_type": "code",
   "execution_count": null,
   "id": "aabbf06b",
   "metadata": {},
   "outputs": [],
   "source": [
    "# Tính chất broadcast\n",
    "s1 = s + 1\n",
    "s1"
   ]
  },
  {
   "cell_type": "code",
   "execution_count": null,
   "id": "bace4eee",
   "metadata": {},
   "outputs": [],
   "source": [
    "# Sử dụng hàm map"
   ]
  },
  {
   "cell_type": "code",
   "execution_count": null,
   "id": "41b3209a",
   "metadata": {},
   "outputs": [],
   "source": [
    "s2 = s.map(lambda x: x + 1)\n",
    "s2"
   ]
  },
  {
   "cell_type": "code",
   "execution_count": null,
   "id": "d05fbdc2",
   "metadata": {},
   "outputs": [],
   "source": [
    "def inc(x):\n",
    "    return x + 1"
   ]
  },
  {
   "cell_type": "code",
   "execution_count": null,
   "id": "11091dd0",
   "metadata": {},
   "outputs": [],
   "source": [
    "s3 = s.map(lambda x: inc(x))\n",
    "s3"
   ]
  },
  {
   "cell_type": "code",
   "execution_count": null,
   "id": "0a66dd55",
   "metadata": {},
   "outputs": [],
   "source": [
    "def ktsnt(n):\n",
    "    if n>1:\n",
    "        for i in range(2,n):\n",
    "            if n%i==0:\n",
    "                return False\n",
    "        else:\n",
    "            return True\n",
    "    else:\n",
    "        return False"
   ]
  },
  {
   "cell_type": "code",
   "execution_count": null,
   "id": "025a0d34",
   "metadata": {},
   "outputs": [],
   "source": [
    "is_prime = s3.map(lambda x: ktsnt(x))\n",
    "is_prime"
   ]
  },
  {
   "cell_type": "code",
   "execution_count": null,
   "id": "8f20288d",
   "metadata": {},
   "outputs": [],
   "source": [
    "s4 = s3[is_prime]\n",
    "s4"
   ]
  },
  {
   "cell_type": "markdown",
   "id": "7912d3f6",
   "metadata": {},
   "source": [
    "# các hàm thống kê"
   ]
  },
  {
   "cell_type": "code",
   "execution_count": null,
   "id": "0eb59f1a",
   "metadata": {},
   "outputs": [],
   "source": [
    "s"
   ]
  },
  {
   "cell_type": "code",
   "execution_count": null,
   "id": "42fe54f0",
   "metadata": {},
   "outputs": [],
   "source": [
    "s['b'] = 1\n",
    "s"
   ]
  },
  {
   "cell_type": "code",
   "execution_count": null,
   "id": "eed4b323",
   "metadata": {},
   "outputs": [],
   "source": [
    "s.value_counts()"
   ]
  },
  {
   "cell_type": "code",
   "execution_count": null,
   "id": "ddebf5fc",
   "metadata": {},
   "outputs": [],
   "source": [
    "# hàm mode trả về pt xuất hiện nhiều nhất\n",
    "s.mode()"
   ]
  },
  {
   "cell_type": "code",
   "execution_count": null,
   "id": "5bef9e36",
   "metadata": {},
   "outputs": [],
   "source": [
    "# cumsum tổng tích lũy\n",
    "s"
   ]
  },
  {
   "cell_type": "code",
   "execution_count": null,
   "id": "80e30cc9",
   "metadata": {},
   "outputs": [],
   "source": [
    "s.cumsum()"
   ]
  },
  {
   "cell_type": "code",
   "execution_count": null,
   "id": "371f5983",
   "metadata": {},
   "outputs": [],
   "source": [
    "s.sum()"
   ]
  },
  {
   "cell_type": "code",
   "execution_count": null,
   "id": "74a87e08",
   "metadata": {},
   "outputs": [],
   "source": [
    "s.cumprod()"
   ]
  },
  {
   "cell_type": "code",
   "execution_count": null,
   "id": "c857bb42",
   "metadata": {},
   "outputs": [],
   "source": [
    "s.prod()"
   ]
  },
  {
   "cell_type": "code",
   "execution_count": null,
   "id": "a22b1d69",
   "metadata": {
    "scrolled": true
   },
   "outputs": [],
   "source": [
    "s.describe()"
   ]
  },
  {
   "cell_type": "code",
   "execution_count": null,
   "id": "07018cab",
   "metadata": {},
   "outputs": [],
   "source": []
  }
 ],
 "metadata": {
  "kernelspec": {
   "display_name": "Python 3 (ipykernel)",
   "language": "python",
   "name": "python3"
  },
  "language_info": {
   "codemirror_mode": {
    "name": "ipython",
    "version": 3
   },
   "file_extension": ".py",
   "mimetype": "text/x-python",
   "name": "python",
   "nbconvert_exporter": "python",
   "pygments_lexer": "ipython3",
   "version": "3.12.6"
  }
 },
 "nbformat": 4,
 "nbformat_minor": 5
}
